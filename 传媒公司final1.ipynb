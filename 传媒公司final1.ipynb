{
 "cells": [
  {
   "cell_type": "code",
   "execution_count": 2,
   "metadata": {},
   "outputs": [
    {
     "data": {
      "text/html": [
       "<div>\n",
       "<style scoped>\n",
       "    .dataframe tbody tr th:only-of-type {\n",
       "        vertical-align: middle;\n",
       "    }\n",
       "\n",
       "    .dataframe tbody tr th {\n",
       "        vertical-align: top;\n",
       "    }\n",
       "\n",
       "    .dataframe thead th {\n",
       "        text-align: right;\n",
       "    }\n",
       "</style>\n",
       "<table border=\"1\" class=\"dataframe\">\n",
       "  <thead>\n",
       "    <tr style=\"text-align: right;\">\n",
       "      <th></th>\n",
       "      <th>name</th>\n",
       "      <th>salary</th>\n",
       "      <th>score</th>\n",
       "      <th>type</th>\n",
       "      <th>location</th>\n",
       "      <th>scale</th>\n",
       "      <th>url</th>\n",
       "    </tr>\n",
       "  </thead>\n",
       "  <tbody>\n",
       "    <tr>\n",
       "      <th>0</th>\n",
       "      <td>万达影城</td>\n",
       "      <td>平均工资  ￥3059</td>\n",
       "      <td>4.0</td>\n",
       "      <td>影视/媒体</td>\n",
       "      <td>大连</td>\n",
       "      <td>10000人以上</td>\n",
       "      <td>www.wandafilm.com</td>\n",
       "    </tr>\n",
       "    <tr>\n",
       "      <th>1</th>\n",
       "      <td>蓝色光标</td>\n",
       "      <td>平均工资  ￥6362</td>\n",
       "      <td>3.8</td>\n",
       "      <td>广告/公关/会展</td>\n",
       "      <td>北京</td>\n",
       "      <td>1000-9999人</td>\n",
       "      <td>www.bluefocusgroup.com</td>\n",
       "    </tr>\n",
       "    <tr>\n",
       "      <th>2</th>\n",
       "      <td>奥美广告</td>\n",
       "      <td>平均工资  ￥5393</td>\n",
       "      <td>4.1</td>\n",
       "      <td>广告/公关/会展</td>\n",
       "      <td>上海</td>\n",
       "      <td>1000-9999人</td>\n",
       "      <td>www.ogilvy.com.cn/</td>\n",
       "    </tr>\n",
       "    <tr>\n",
       "      <th>3</th>\n",
       "      <td>电通</td>\n",
       "      <td>平均工资  ￥7000</td>\n",
       "      <td>3.7</td>\n",
       "      <td>广告/公关/会展</td>\n",
       "      <td>北京</td>\n",
       "      <td>500-999人</td>\n",
       "      <td>www.dentsu.com.cn</td>\n",
       "    </tr>\n",
       "    <tr>\n",
       "      <th>4</th>\n",
       "      <td>中央电视台</td>\n",
       "      <td>平均工资  ￥7975</td>\n",
       "      <td>4.1</td>\n",
       "      <td>影视/媒体</td>\n",
       "      <td>北京</td>\n",
       "      <td>1000-9999人</td>\n",
       "      <td>www.cctv.com</td>\n",
       "    </tr>\n",
       "    <tr>\n",
       "      <th>5</th>\n",
       "      <td>ABC公司</td>\n",
       "      <td>平均工资  ￥7426</td>\n",
       "      <td>4.1</td>\n",
       "      <td>影视/媒体</td>\n",
       "      <td>北京</td>\n",
       "      <td>100-499人</td>\n",
       "      <td>abcnews.go.com/</td>\n",
       "    </tr>\n",
       "    <tr>\n",
       "      <th>6</th>\n",
       "      <td>华数传媒</td>\n",
       "      <td>平均工资  ￥4620</td>\n",
       "      <td>3.6</td>\n",
       "      <td>影视/媒体</td>\n",
       "      <td>杭州</td>\n",
       "      <td>1000-9999人</td>\n",
       "      <td>www.wasu.com.cn</td>\n",
       "    </tr>\n",
       "    <tr>\n",
       "      <th>7</th>\n",
       "      <td>分众传媒</td>\n",
       "      <td>平均工资  ￥5000</td>\n",
       "      <td>3.6</td>\n",
       "      <td>影视/媒体</td>\n",
       "      <td>北京</td>\n",
       "      <td>1000-9999人</td>\n",
       "      <td>www.focusmedia.cn</td>\n",
       "    </tr>\n",
       "    <tr>\n",
       "      <th>8</th>\n",
       "      <td>上海奥维思市场营销服务公司</td>\n",
       "      <td>平均工资  ￥3625</td>\n",
       "      <td>2.6</td>\n",
       "      <td>广告/公关/会展</td>\n",
       "      <td>上海</td>\n",
       "      <td>20-99人</td>\n",
       "      <td>www.alwaysmkt.com</td>\n",
       "    </tr>\n",
       "    <tr>\n",
       "      <th>9</th>\n",
       "      <td>天津天士力医药营销集团有限公司</td>\n",
       "      <td>平均工资  ￥5500</td>\n",
       "      <td>3.5</td>\n",
       "      <td>广告/公关/会展</td>\n",
       "      <td>天津</td>\n",
       "      <td>20-99人</td>\n",
       "      <td>www.tasly.com/fgs/yiyao/index.htm</td>\n",
       "    </tr>\n",
       "  </tbody>\n",
       "</table>\n",
       "</div>"
      ],
      "text/plain": [
       "              name       salary score       type location        scale  \\\n",
       "0             万达影城  平均工资  ￥3059   4.0     影视/媒体       大连     10000人以上    \n",
       "1             蓝色光标  平均工资  ￥6362   3.8  广告/公关/会展       北京   1000-9999人    \n",
       "2             奥美广告  平均工资  ￥5393   4.1  广告/公关/会展       上海   1000-9999人    \n",
       "3               电通  平均工资  ￥7000   3.7  广告/公关/会展       北京     500-999人    \n",
       "4            中央电视台  平均工资  ￥7975   4.1     影视/媒体       北京   1000-9999人    \n",
       "5            ABC公司  平均工资  ￥7426   4.1     影视/媒体       北京     100-499人    \n",
       "6             华数传媒  平均工资  ￥4620   3.6     影视/媒体       杭州   1000-9999人    \n",
       "7             分众传媒  平均工资  ￥5000   3.6     影视/媒体       北京   1000-9999人    \n",
       "8    上海奥维思市场营销服务公司  平均工资  ￥3625   2.6  广告/公关/会展       上海       20-99人    \n",
       "9  天津天士力医药营销集团有限公司  平均工资  ￥5500   3.5  广告/公关/会展       天津       20-99人    \n",
       "\n",
       "                                 url  \n",
       "0                  www.wandafilm.com  \n",
       "1             www.bluefocusgroup.com  \n",
       "2                 www.ogilvy.com.cn/  \n",
       "3                  www.dentsu.com.cn  \n",
       "4                       www.cctv.com  \n",
       "5                    abcnews.go.com/  \n",
       "6                    www.wasu.com.cn  \n",
       "7                  www.focusmedia.cn  \n",
       "8                  www.alwaysmkt.com  \n",
       "9  www.tasly.com/fgs/yiyao/index.htm  "
      ]
     },
     "execution_count": 2,
     "metadata": {},
     "output_type": "execute_result"
    }
   ],
   "source": [
    "import pandas as pd\n",
    "\n",
    "#原始数据\n",
    "df = pd.read_csv(\"clean_kanzhun_corp_info0.csv\")\n",
    "del df['Unnamed: 0']\n",
    "len(df['name']) #90\n",
    "df.head(10) #显示部分数据"
   ]
  },
  {
   "cell_type": "markdown",
   "metadata": {},
   "source": [
    "### 传媒公司概况"
   ]
  },
  {
   "cell_type": "markdown",
   "metadata": {},
   "source": [
    "#### (1)薪资水平"
   ]
  },
  {
   "cell_type": "code",
   "execution_count": 3,
   "metadata": {},
   "outputs": [],
   "source": [
    "len(df['salary']) #90\n",
    "df['new_salary'] = df['salary'].str.lstrip(\"平均工资  ￥\")\n",
    "\n",
    "for i in range(0,90):\n",
    "    df['new_salary'][i] = int(df['new_salary'][i])\n",
    "df2 = df.sort_values(by='new_salary', ascending=False)[:20]"
   ]
  },
  {
   "cell_type": "code",
   "execution_count": 4,
   "metadata": {},
   "outputs": [
    {
     "data": {
      "text/plain": [
       "count       90.000000\n",
       "mean      5413.711111\n",
       "std       2104.214648\n",
       "min       1300.000000\n",
       "25%       4237.500000\n",
       "50%       5515.000000\n",
       "75%       6320.000000\n",
       "max      15840.000000\n",
       "Name: new_salary, dtype: float64"
      ]
     },
     "execution_count": 4,
     "metadata": {},
     "output_type": "execute_result"
    }
   ],
   "source": [
    "import pandas as pd\n",
    "import numpy as np\n",
    "df['new_salary']=pd.DataFrame(df['new_salary'],dtype=np.int)\n",
    "df['new_salary'].describe()"
   ]
  },
  {
   "cell_type": "code",
   "execution_count": 5,
   "metadata": {
    "scrolled": false
   },
   "outputs": [
    {
     "data": {
      "text/html": [
       "<iframe id=\"igraph\" scrolling=\"no\" style=\"border:none;\" seamless=\"seamless\" src=\"https://plot.ly/~iiiJenny/14.embed\" height=\"525px\" width=\"100%\"></iframe>"
      ],
      "text/plain": [
       "<plotly.tools.PlotlyDisplay object>"
      ]
     },
     "execution_count": 5,
     "metadata": {},
     "output_type": "execute_result"
    }
   ],
   "source": [
    "import plotly.plotly as py\n",
    "import plotly.graph_objs as go\n",
    "\n",
    "random_x = df2['name'][:20]\n",
    "random_y0 = df2['new_salary'][:20]\n",
    "random_y1 = df2['score'][:20]\n",
    "\n",
    "\n",
    "# Create a trace\n",
    "trace0 = go.Scatter(\n",
    "    x = random_x,\n",
    "    y = random_y0,\n",
    "    mode = 'lines+markers',\n",
    "    name = 'SALARY'\n",
    ")\n",
    "trace1 = go.Scatter(\n",
    "    x = random_x,\n",
    "    y = random_y1,\n",
    "    mode = 'lines+markers',\n",
    "    name = 'GRADE'\n",
    ")\n",
    "\n",
    "data = [trace0, trace1]\n",
    "py.iplot(data, filename='line-mode')"
   ]
  },
  {
   "cell_type": "markdown",
   "metadata": {},
   "source": [
    "#### （2）地域分布"
   ]
  },
  {
   "cell_type": "code",
   "execution_count": 6,
   "metadata": {},
   "outputs": [
    {
     "data": {
      "text/plain": [
       "北京     38\n",
       "上海     18\n",
       "广州     11\n",
       "深圳      5\n",
       "杭州      2\n",
       "成都      2\n",
       "武汉      2\n",
       "重庆      2\n",
       "长沙      2\n",
       "天津      2\n",
       "无锡      1\n",
       "济南      1\n",
       "南京      1\n",
       "湖州      1\n",
       "苏州      1\n",
       "大连      1\n",
       "Name: location, dtype: int64"
      ]
     },
     "execution_count": 6,
     "metadata": {},
     "output_type": "execute_result"
    }
   ],
   "source": [
    "df['location'].value_counts()"
   ]
  },
  {
   "cell_type": "code",
   "execution_count": 35,
   "metadata": {
    "scrolled": false
   },
   "outputs": [
    {
     "data": {
      "text/html": [
       "<iframe id=\"igraph\" scrolling=\"no\" style=\"border:none;\" seamless=\"seamless\" src=\"https://plot.ly/~iiiJenny/16.embed\" height=\"525px\" width=\"100%\"></iframe>"
      ],
      "text/plain": [
       "<plotly.tools.PlotlyDisplay object>"
      ]
     },
     "execution_count": 35,
     "metadata": {},
     "output_type": "execute_result"
    }
   ],
   "source": [
    "import plotly.plotly as py\n",
    "import plotly.graph_objs as go\n",
    "\n",
    "pd_city = pd.read_csv(\"region_comm_corp_info.csv\")\n",
    "data = [go.Bar(\n",
    "            x= pd_city['location'],\n",
    "            y= pd_city['count']\n",
    "    )]\n",
    "\n",
    "py.iplot(data, filename='basic-bar')"
   ]
  },
  {
   "cell_type": "code",
   "execution_count": 52,
   "metadata": {
    "scrolled": false
   },
   "outputs": [
    {
     "data": {
      "text/html": [
       "<iframe id=\"igraph\" scrolling=\"no\" style=\"border:none;\" seamless=\"seamless\" src=\"https://plot.ly/~iiiJenny/32.embed\" height=\"525px\" width=\"100%\"></iframe>"
      ],
      "text/plain": [
       "<plotly.tools.PlotlyDisplay object>"
      ]
     },
     "execution_count": 52,
     "metadata": {},
     "output_type": "execute_result"
    }
   ],
   "source": [
    "import plotly.plotly as py\n",
    "import plotly.graph_objs as go\n",
    "\n",
    "import pandas as pd\n",
    "\n",
    "mapbox_access_token = 'pk.eyJ1IjoiaWlpamVubnkiLCJhIjoiY2pwOGJkaDZjMTdqMzNwcDRndWV4Y2IzaCJ9.xprdAkm3-TNaO1MzkvjLyw'\n",
    "\n",
    "df_location = pd.read_csv(\"region_comm_corp_info.csv\")\n",
    "site_lat = df_location.lat\n",
    "site_lon = df_location.lon\n",
    "locations_name = df_location.location\n",
    "\n",
    "data = [\n",
    "    go.Scattermapbox(\n",
    "        lat=site_lat,\n",
    "        lon=site_lon,\n",
    "        mode='markers',\n",
    "        marker=dict(\n",
    "            size=17,\n",
    "            color='rgb(255, 0, 0)',\n",
    "            opacity=0.7\n",
    "        ),\n",
    "        text=locations_name,\n",
    "        hoverinfo='text'\n",
    "    ),\n",
    "    go.Scattermapbox(\n",
    "        lat=site_lat,\n",
    "        lon=site_lon,\n",
    "        mode='markers',\n",
    "        marker=dict(\n",
    "            size=8,\n",
    "            color='rgb(242, 177, 172)',\n",
    "            opacity=0.7\n",
    "        ),\n",
    "        hoverinfo='none'\n",
    "    )]\n",
    "\n",
    "layout = go.Layout(\n",
    "    title='Geographical distribution of media companies',\n",
    "    autosize=True,\n",
    "    hovermode='closest',\n",
    "    showlegend=False,\n",
    "    mapbox=dict(\n",
    "        accesstoken=mapbox_access_token,\n",
    "        bearing=0,\n",
    "        center=dict(\n",
    "            lat=38,\n",
    "            lon=-94\n",
    "        ),\n",
    "        pitch=0,\n",
    "        zoom=3,\n",
    "        style='light'\n",
    "    ),\n",
    ")\n",
    "\n",
    "fig = dict(data=data, layout=layout)\n",
    "py.iplot(fig, filename='传媒公司分布图')"
   ]
  },
  {
   "cell_type": "markdown",
   "metadata": {},
   "source": [
    "### 传媒公司类型分布"
   ]
  },
  {
   "cell_type": "code",
   "execution_count": 9,
   "metadata": {},
   "outputs": [
    {
     "data": {
      "text/plain": [
       "媒体     41\n",
       "影视     41\n",
       "公关     34\n",
       "广告     34\n",
       "会展     34\n",
       "文化     15\n",
       "艺术     15\n",
       "出版     15\n",
       "dtype: int64"
      ]
     },
     "execution_count": 9,
     "metadata": {},
     "output_type": "execute_result"
    }
   ],
   "source": [
    "# 拆分type信息，并放在同一列上\n",
    "types = df['type'].str.split('/', expand=True).stack().reset_index(level=1, drop=True)#.rename('type')\n",
    "types.index = range(1,len(types) + 1) #重新index\n",
    "len(types) #229\n",
    "types.value_counts()"
   ]
  },
  {
   "cell_type": "code",
   "execution_count": 10,
   "metadata": {},
   "outputs": [
    {
     "data": {
      "text/plain": [
       "影视/媒体        41\n",
       "广告/公关/会展     34\n",
       "文化/艺术/出版     15\n",
       "Name: type, dtype: int64"
      ]
     },
     "execution_count": 10,
     "metadata": {},
     "output_type": "execute_result"
    }
   ],
   "source": [
    "df['type'].value_counts()"
   ]
  },
  {
   "cell_type": "code",
   "execution_count": 11,
   "metadata": {},
   "outputs": [
    {
     "data": {
      "text/html": [
       "<iframe id=\"igraph\" scrolling=\"no\" style=\"border:none;\" seamless=\"seamless\" src=\"https://plot.ly/~iiiJenny/28.embed\" height=\"525px\" width=\"100%\"></iframe>"
      ],
      "text/plain": [
       "<plotly.tools.PlotlyDisplay object>"
      ]
     },
     "execution_count": 11,
     "metadata": {},
     "output_type": "execute_result"
    }
   ],
   "source": [
    "import plotly.plotly as py\n",
    "import plotly.graph_objs as go\n",
    "\n",
    "fig = {\n",
    "  \"data\": [\n",
    "    {\n",
    "      \"values\": [41,34,15],\n",
    "      \"labels\": [\n",
    "        \"影视/媒体\",\n",
    "        \"广告/公关/会展\",\n",
    "        \"文化/艺术/出版\",\n",
    "      ],\n",
    "      \"domain\": {\"x\": [0, .48]},\n",
    "      \"name\": \"The proportion of types of media company\",\n",
    "      \"hoverinfo\":\"label+percent+name\",\n",
    "      \"hole\": .4,\n",
    "      \"type\": \"pie\"\n",
    "    },\n",
    "  ],\n",
    "  \"layout\": {\n",
    "        \"title\":\"The proportion of types of media company\",\n",
    "        \"annotations\": [\n",
    "            {\n",
    "                \"font\": {\n",
    "                    \"size\": 15\n",
    "                },\n",
    "                \"showarrow\": False,\n",
    "                \"text\": \"type\",\n",
    "                \"x\": 0.20,\n",
    "                \"y\": 0.5\n",
    "            },\n",
    "        ]\n",
    "    }\n",
    "}\n",
    "py.iplot(fig, filename='hot_corp_proportion')"
   ]
  },
  {
   "cell_type": "markdown",
   "metadata": {},
   "source": [
    "###  媒体/影视,公关/会展/广告,文化／艺术／出版 三者之间的比较"
   ]
  },
  {
   "cell_type": "markdown",
   "metadata": {},
   "source": [
    "#### (1) 薪资比较"
   ]
  },
  {
   "cell_type": "code",
   "execution_count": 12,
   "metadata": {},
   "outputs": [],
   "source": [
    "df_media = df[df['type'] == '影视/媒体 ']\n",
    "df_ad = df[df['type'] == '广告/公关/会展 ']\n",
    "df_pub = df[df['type'] == '文化/艺术/出版 ']"
   ]
  },
  {
   "cell_type": "code",
   "execution_count": 29,
   "metadata": {},
   "outputs": [
    {
     "data": {
      "text/plain": [
       "count       41.000000\n",
       "mean      5671.073171\n",
       "std       2376.656626\n",
       "min       1300.000000\n",
       "25%       4495.000000\n",
       "50%       5800.000000\n",
       "75%       6320.000000\n",
       "max      15840.000000\n",
       "Name: new_salary, dtype: float64"
      ]
     },
     "execution_count": 29,
     "metadata": {},
     "output_type": "execute_result"
    }
   ],
   "source": [
    "import pandas as pd\n",
    "import numpy as np\n",
    "df['new_salary']=pd.DataFrame(df['new_salary'],dtype=np.int)\n",
    "\n",
    "df_media['new_salary'].describe()"
   ]
  },
  {
   "cell_type": "code",
   "execution_count": 30,
   "metadata": {},
   "outputs": [
    {
     "data": {
      "text/plain": [
       "count      34.000000\n",
       "mean     5105.558824\n",
       "std      1926.561047\n",
       "min      1738.000000\n",
       "25%      3531.250000\n",
       "50%      5393.000000\n",
       "75%      6346.500000\n",
       "max      9254.000000\n",
       "Name: new_salary, dtype: float64"
      ]
     },
     "execution_count": 30,
     "metadata": {},
     "output_type": "execute_result"
    }
   ],
   "source": [
    "df_ad['new_salary'].describe()"
   ]
  },
  {
   "cell_type": "code",
   "execution_count": 31,
   "metadata": {},
   "outputs": [
    {
     "data": {
      "text/plain": [
       "count      15.000000\n",
       "mean     5408.733333\n",
       "std      1683.926723\n",
       "min      2000.000000\n",
       "25%      5275.500000\n",
       "50%      5530.000000\n",
       "75%      6045.000000\n",
       "max      8000.000000\n",
       "Name: new_salary, dtype: float64"
      ]
     },
     "execution_count": 31,
     "metadata": {},
     "output_type": "execute_result"
    }
   ],
   "source": [
    "df_pub['new_salary'].describe()"
   ]
  },
  {
   "cell_type": "markdown",
   "metadata": {},
   "source": [
    "#### (2)评分比较"
   ]
  },
  {
   "cell_type": "code",
   "execution_count": 16,
   "metadata": {},
   "outputs": [],
   "source": [
    "df_media\n",
    "df_media.index = range(1,len(df_media) + 1)\n",
    "df_media.to_csv(\"df_media.csv\")\n",
    "\n",
    "df_ad\n",
    "df_ad.index = range(1,len(df_ad) + 1)\n",
    "df_ad.to_csv(\"df_ad.csv\")\n",
    "\n",
    "df_pub\n",
    "df_pub.index = range(1,len(df_pub) + 1)\n",
    "df_pub.to_csv(\"df_pub.csv\")"
   ]
  },
  {
   "cell_type": "code",
   "execution_count": 17,
   "metadata": {},
   "outputs": [
    {
     "data": {
      "text/plain": [
       "count    41.000000\n",
       "mean      3.719512\n",
       "std       0.398886\n",
       "min       3.000000\n",
       "25%       3.500000\n",
       "50%       3.700000\n",
       "75%       4.000000\n",
       "max       5.000000\n",
       "Name: score, dtype: float64"
      ]
     },
     "execution_count": 17,
     "metadata": {},
     "output_type": "execute_result"
    }
   ],
   "source": [
    "df_media0 = pd.read_csv(\"df_media.csv\")\n",
    "df_media0['score'].describe()"
   ]
  },
  {
   "cell_type": "code",
   "execution_count": 18,
   "metadata": {},
   "outputs": [
    {
     "data": {
      "text/plain": [
       "count    15.000000\n",
       "mean      3.673333\n",
       "std       0.458984\n",
       "min       2.300000\n",
       "25%       3.600000\n",
       "50%       3.700000\n",
       "75%       4.000000\n",
       "max       4.100000\n",
       "Name: score, dtype: float64"
      ]
     },
     "execution_count": 18,
     "metadata": {},
     "output_type": "execute_result"
    }
   ],
   "source": [
    "df_pub0 = pd.read_csv(\"df_pub.csv\")\n",
    "df_pub0['score'].describe()"
   ]
  },
  {
   "cell_type": "code",
   "execution_count": 19,
   "metadata": {},
   "outputs": [
    {
     "data": {
      "text/plain": [
       "count    33.000000\n",
       "mean      3.630303\n",
       "std       0.490844\n",
       "min       2.500000\n",
       "25%       3.400000\n",
       "50%       3.700000\n",
       "75%       4.000000\n",
       "max       5.000000\n",
       "Name: score, dtype: float64"
      ]
     },
     "execution_count": 19,
     "metadata": {},
     "output_type": "execute_result"
    }
   ],
   "source": [
    "df_ad0 = pd.read_csv(\"df_ad.csv\")\n",
    "df_ad0.drop(df_ad0.index[13],axis=0,inplace=True)\n",
    "df_ad0.to_csv(\"df_ad0.csv\")\n",
    "df_ad0 = pd.read_csv(\"df_ad0.csv\")\n",
    "df_ad0['score'].describe()"
   ]
  },
  {
   "cell_type": "code",
   "execution_count": 24,
   "metadata": {},
   "outputs": [
    {
     "data": {
      "text/html": [
       "<div>\n",
       "<style scoped>\n",
       "    .dataframe tbody tr th:only-of-type {\n",
       "        vertical-align: middle;\n",
       "    }\n",
       "\n",
       "    .dataframe tbody tr th {\n",
       "        vertical-align: top;\n",
       "    }\n",
       "\n",
       "    .dataframe thead th {\n",
       "        text-align: right;\n",
       "    }\n",
       "</style>\n",
       "<table border=\"1\" class=\"dataframe\">\n",
       "  <thead>\n",
       "    <tr style=\"text-align: right;\">\n",
       "      <th></th>\n",
       "      <th>name</th>\n",
       "      <th>mean</th>\n",
       "      <th>min</th>\n",
       "      <th>max</th>\n",
       "      <th>75%</th>\n",
       "      <th>grade</th>\n",
       "      <th>max_g</th>\n",
       "    </tr>\n",
       "  </thead>\n",
       "  <tbody>\n",
       "    <tr>\n",
       "      <th>0</th>\n",
       "      <td>media</td>\n",
       "      <td>5671</td>\n",
       "      <td>1300</td>\n",
       "      <td>15840</td>\n",
       "      <td>6320</td>\n",
       "      <td>3.719</td>\n",
       "      <td>5.0</td>\n",
       "    </tr>\n",
       "    <tr>\n",
       "      <th>1</th>\n",
       "      <td>ad</td>\n",
       "      <td>5106</td>\n",
       "      <td>1738</td>\n",
       "      <td>9254</td>\n",
       "      <td>6346</td>\n",
       "      <td>3.673</td>\n",
       "      <td>4.1</td>\n",
       "    </tr>\n",
       "    <tr>\n",
       "      <th>2</th>\n",
       "      <td>pub</td>\n",
       "      <td>5409</td>\n",
       "      <td>1683</td>\n",
       "      <td>8000</td>\n",
       "      <td>6045</td>\n",
       "      <td>3.630</td>\n",
       "      <td>5.0</td>\n",
       "    </tr>\n",
       "  </tbody>\n",
       "</table>\n",
       "</div>"
      ],
      "text/plain": [
       "    name  mean   min    max   75%  grade  max_g\n",
       "0  media  5671  1300  15840  6320  3.719    5.0\n",
       "1     ad  5106  1738   9254  6346  3.673    4.1\n",
       "2    pub  5409  1683   8000  6045  3.630    5.0"
      ]
     },
     "execution_count": 24,
     "metadata": {},
     "output_type": "execute_result"
    }
   ],
   "source": [
    "import pandas as pd\n",
    "#原始数据\n",
    "df00 = pd.read_csv(\"salary_grade.csv\")\n",
    "df00"
   ]
  },
  {
   "cell_type": "code",
   "execution_count": 34,
   "metadata": {
    "scrolled": true
   },
   "outputs": [
    {
     "data": {
      "text/html": [
       "<iframe id=\"igraph\" scrolling=\"no\" style=\"border:none;\" seamless=\"seamless\" src=\"https://plot.ly/~iiiJenny/43.embed\" height=\"525px\" width=\"100%\"></iframe>"
      ],
      "text/plain": [
       "<plotly.tools.PlotlyDisplay object>"
      ]
     },
     "execution_count": 34,
     "metadata": {},
     "output_type": "execute_result"
    }
   ],
   "source": [
    "import plotly.plotly as py\n",
    "import plotly.graph_objs as go\n",
    "\n",
    "\n",
    "trace1 = go.Bar(\n",
    "    x=['Meida', 'Ad', 'Pub'],\n",
    "    y=[5671, 5106, 5409],\n",
    "    name='salary_mean'\n",
    ")\n",
    "trace3 = go.Bar(\n",
    "    x=['Meida', 'Ad', 'Pub'],\n",
    "    y=[1300, 1738, 1683],\n",
    "    name='salary_min'\n",
    ")\n",
    "trace4 = go.Bar(\n",
    "    x=['Meida', 'Ad', 'Pub'],\n",
    "    y=[15840, 9254, 8000],\n",
    "    name='salary_max'\n",
    ")\n",
    "trace2 = go.Bar(\n",
    "    x=['Meida', 'Ad', 'Pub'],\n",
    "    y=[3.719, 3.673, 3.630],\n",
    "    name='grade_mean'\n",
    ")\n",
    "\n",
    "data = [trace1, trace3, trace4, trace2]\n",
    "layout = go.Layout(\n",
    "    barmode='group'\n",
    ")\n",
    "\n",
    "fig = go.Figure(data=data, layout=layout)\n",
    "py.iplot(fig, filename='grouped-bar')"
   ]
  },
  {
   "cell_type": "markdown",
   "metadata": {},
   "source": [
    "#### (3)地域比较"
   ]
  },
  {
   "cell_type": "code",
   "execution_count": 21,
   "metadata": {},
   "outputs": [
    {
     "data": {
      "text/plain": [
       "北京     16\n",
       "上海      7\n",
       "广州      3\n",
       "杭州      2\n",
       "武汉      2\n",
       "长沙      2\n",
       "深圳      2\n",
       "无锡      1\n",
       "成都      1\n",
       "南京      1\n",
       "济南      1\n",
       "重庆      1\n",
       "天津      1\n",
       "大连      1\n",
       "Name: location, dtype: int64"
      ]
     },
     "execution_count": 21,
     "metadata": {},
     "output_type": "execute_result"
    }
   ],
   "source": [
    "df_media['location'].value_counts()"
   ]
  },
  {
   "cell_type": "code",
   "execution_count": 22,
   "metadata": {},
   "outputs": [
    {
     "data": {
      "text/plain": [
       "北京     14\n",
       "上海     10\n",
       "广州      5\n",
       "深圳      2\n",
       "湖州      1\n",
       "苏州      1\n",
       "天津      1\n",
       "Name: location, dtype: int64"
      ]
     },
     "execution_count": 22,
     "metadata": {},
     "output_type": "execute_result"
    }
   ],
   "source": [
    "df_ad['location'].value_counts()"
   ]
  },
  {
   "cell_type": "code",
   "execution_count": 23,
   "metadata": {},
   "outputs": [
    {
     "data": {
      "text/plain": [
       "北京     8\n",
       "广州     3\n",
       "深圳     1\n",
       "成都     1\n",
       "重庆     1\n",
       "上海     1\n",
       "Name: location, dtype: int64"
      ]
     },
     "execution_count": 23,
     "metadata": {},
     "output_type": "execute_result"
    }
   ],
   "source": [
    "df_pub['location'].value_counts()"
   ]
  },
  {
   "cell_type": "code",
   "execution_count": 55,
   "metadata": {
    "scrolled": false
   },
   "outputs": [
    {
     "data": {
      "text/html": [
       "<iframe id=\"igraph\" scrolling=\"no\" style=\"border:none;\" seamless=\"seamless\" src=\"https://plot.ly/~iiiJenny/32.embed\" height=\"525px\" width=\"100%\"></iframe>"
      ],
      "text/plain": [
       "<plotly.tools.PlotlyDisplay object>"
      ]
     },
     "execution_count": 55,
     "metadata": {},
     "output_type": "execute_result"
    }
   ],
   "source": [
    "import plotly.plotly as py\n",
    "import plotly.graph_objs as go\n",
    "\n",
    "import pandas as pd\n",
    "\n",
    "mapbox_access_token = 'pk.eyJ1IjoiaWlpamVubnkiLCJhIjoiY2pwYW53N3IxMXhmdTNwbzN0MGN4YTM3aCJ9.YIJO9O_U89eF4k_NeEKwGw'\n",
    "\n",
    "df_location = pd.read_csv(\"ad.csv\")\n",
    "site_lat1 = df_location.lat1\n",
    "site_lon1 = df_location.lon1\n",
    "locations_name1 = df_location.ad\n",
    "\n",
    "data1 = [\n",
    "    go.Scattermapbox(\n",
    "        lat=site_lat1,\n",
    "        lon=site_lon1,\n",
    "        mode='markers',\n",
    "        marker=dict(\n",
    "            size=17,\n",
    "            color='rgb(255, 0, 0)',\n",
    "            opacity=0.7\n",
    "        ),\n",
    "        text=locations_name1,\n",
    "        hoverinfo='text'\n",
    "    ),\n",
    "    go.Scattermapbox(\n",
    "        lat=site_lat1,\n",
    "        lon=site_lon1,\n",
    "        mode='markers',\n",
    "        marker=dict(\n",
    "            size=8,\n",
    "            color='rgb(242, 177, 172)',\n",
    "            opacity=0.7\n",
    "        ),\n",
    "        hoverinfo='none'\n",
    "    )]\n",
    "\n",
    "\n",
    "\n",
    "layout = go.Layout(\n",
    "    title='Geographical distribution of Ad companies',\n",
    "    autosize=True,\n",
    "    hovermode='closest',\n",
    "    showlegend=False,\n",
    "    mapbox=dict(\n",
    "        accesstoken=mapbox_access_token,\n",
    "        bearing=0,\n",
    "        center=dict(\n",
    "            lat=38,\n",
    "            lon=-94\n",
    "        ),\n",
    "        pitch=0,\n",
    "        zoom=3,\n",
    "        style='light'\n",
    "    ),\n",
    ")\n",
    "\n",
    "\n",
    "fig1 = dict(data=data1, layout=layout)\n",
    "py.iplot(fig1, filename='传媒公司分布图')"
   ]
  },
  {
   "cell_type": "code",
   "execution_count": 58,
   "metadata": {
    "scrolled": false
   },
   "outputs": [
    {
     "data": {
      "text/html": [
       "<iframe id=\"igraph\" scrolling=\"no\" style=\"border:none;\" seamless=\"seamless\" src=\"https://plot.ly/~iiiJenny/32.embed\" height=\"525px\" width=\"100%\"></iframe>"
      ],
      "text/plain": [
       "<plotly.tools.PlotlyDisplay object>"
      ]
     },
     "execution_count": 58,
     "metadata": {},
     "output_type": "execute_result"
    }
   ],
   "source": [
    "import plotly.plotly as py\n",
    "import plotly.graph_objs as go\n",
    "\n",
    "import pandas as pd\n",
    "\n",
    "mapbox_access_token = 'pk.eyJ1IjoiaWlpamVubnkiLCJhIjoiY2pwYW9hemk3MDJ1ZzN5cGhjdnMzemRpZyJ9.NBLGmbKVxTbobt4ekO9pOA'\n",
    "\n",
    "df_location = pd.read_csv(\"pub.csv\")\n",
    "site_lat2 = df_location.lat2\n",
    "site_lon2 = df_location.lon2\n",
    "locations_name2 = df_location.pub\n",
    "\n",
    "data2 = [\n",
    "    go.Scattermapbox(\n",
    "        lat=site_lat2,\n",
    "        lon=site_lon2,\n",
    "        mode='markers',\n",
    "        marker=dict(\n",
    "            size=17,\n",
    "            color='rgb(0, 51, 204)',\n",
    "            opacity=0.7\n",
    "        ),\n",
    "        text=locations_name2,\n",
    "        hoverinfo='text'\n",
    "    ),\n",
    "    go.Scattermapbox(\n",
    "        lat=site_lat2,\n",
    "        lon=site_lon2,\n",
    "        mode='markers',\n",
    "        marker=dict(\n",
    "            size=8,\n",
    "            color='rgb(0, 153, 255)',\n",
    "            opacity=0.7\n",
    "        ),\n",
    "        hoverinfo='none'\n",
    "    )]\n",
    "\n",
    "layout = go.Layout(\n",
    "    title='Geographical distribution of Publication companies',\n",
    "    autosize=True,\n",
    "    hovermode='closest',\n",
    "    showlegend=False,\n",
    "    mapbox=dict(\n",
    "        accesstoken=mapbox_access_token,\n",
    "        bearing=0,\n",
    "        center=dict(\n",
    "            lat=38,\n",
    "            lon=-94\n",
    "        ),\n",
    "        pitch=0,\n",
    "        zoom=3,\n",
    "        style='light'\n",
    "    ),\n",
    ")\n",
    "\n",
    "#fig1 = dict(data=data1, layout=layout)\n",
    "fig2 = dict(data=data2, layout=layout)\n",
    "py.iplot(fig2, filename='传媒公司分布图')"
   ]
  },
  {
   "cell_type": "code",
   "execution_count": 57,
   "metadata": {
    "scrolled": false
   },
   "outputs": [
    {
     "data": {
      "text/html": [
       "<iframe id=\"igraph\" scrolling=\"no\" style=\"border:none;\" seamless=\"seamless\" src=\"https://plot.ly/~iiiJenny/32.embed\" height=\"525px\" width=\"100%\"></iframe>"
      ],
      "text/plain": [
       "<plotly.tools.PlotlyDisplay object>"
      ]
     },
     "execution_count": 57,
     "metadata": {},
     "output_type": "execute_result"
    }
   ],
   "source": [
    "import plotly.plotly as py\n",
    "import plotly.graph_objs as go\n",
    "\n",
    "import pandas as pd\n",
    "\n",
    "mapbox_access_token = 'pk.eyJ1IjoiaWlpamVubnkiLCJhIjoiY2pwOGJkaDZjMTdqMzNwcDRndWV4Y2IzaCJ9.xprdAkm3-TNaO1MzkvjLyw'\n",
    "\n",
    "df_location = pd.read_csv(\"media.csv\")\n",
    "site_lat3 = df_location.lat3\n",
    "site_lon3 = df_location.lon3\n",
    "locations_name3 = df_location.media\n",
    "\n",
    "data3 = [\n",
    "    go.Scattermapbox(\n",
    "        lat=site_lat3,\n",
    "        lon=site_lon3,\n",
    "        mode='markers',\n",
    "        marker=dict(\n",
    "            size=17,\n",
    "            color='rgb(255, 153, 102)',\n",
    "            opacity=0.7\n",
    "        ),\n",
    "        text=locations_name3,\n",
    "        hoverinfo='text'\n",
    "    ),\n",
    "    go.Scattermapbox(\n",
    "        lat=site_lat3,\n",
    "        lon=site_lon3,\n",
    "        mode='markers',\n",
    "        marker=dict(\n",
    "            size=8,\n",
    "            color='rgb(255, 255, 153)',\n",
    "            opacity=0.7\n",
    "        ),\n",
    "        hoverinfo='none'\n",
    "    )]\n",
    "\n",
    "layout = go.Layout(\n",
    "    title='Geographical distribution of media companies',\n",
    "    autosize=True,\n",
    "    hovermode='closest',\n",
    "    showlegend=False,\n",
    "    mapbox=dict(\n",
    "        accesstoken=mapbox_access_token,\n",
    "        bearing=0,\n",
    "        center=dict(\n",
    "            lat=38,\n",
    "            lon=-94\n",
    "        ),\n",
    "        pitch=0,\n",
    "        zoom=3,\n",
    "        style='light'\n",
    "    ),\n",
    ")\n",
    "\n",
    "\n",
    "fig3 = dict(data=data3, layout=layout)\n",
    "py.iplot(fig3, filename='传媒公司分布图')"
   ]
  },
  {
   "cell_type": "code",
   "execution_count": null,
   "metadata": {},
   "outputs": [],
   "source": []
  }
 ],
 "metadata": {
  "kernelspec": {
   "display_name": "Python 3",
   "language": "python",
   "name": "python3"
  },
  "language_info": {
   "codemirror_mode": {
    "name": "ipython",
    "version": 3
   },
   "file_extension": ".py",
   "mimetype": "text/x-python",
   "name": "python",
   "nbconvert_exporter": "python",
   "pygments_lexer": "ipython3",
   "version": "3.6.5"
  }
 },
 "nbformat": 4,
 "nbformat_minor": 2
}
